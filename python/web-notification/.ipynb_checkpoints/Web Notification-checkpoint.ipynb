{
 "cells": [
  {
   "cell_type": "markdown",
   "id": "9822c580",
   "metadata": {},
   "source": [
    "# 웹 게시글 알람서비스 만들기 (Python)\n"
   ]
  },
  {
   "cell_type": "markdown",
   "id": "874c8e51",
   "metadata": {},
   "source": [
    "특정 웹사이트에서 내가 설정해둔 키워드로 글이 등록되었을 때\n",
    "\n",
    "메시지를 전송해주는 파이썬 프로그램을 만들어 보겠습니다.\n",
    "\n",
    "특가 정보, 관심기업 정보, 관심분야 정보 등에 활용해봅시다."
   ]
  },
  {
   "cell_type": "markdown",
   "id": "2b51eaf3",
   "metadata": {},
   "source": [
    "---"
   ]
  },
  {
   "cell_type": "markdown",
   "id": "f1f93e91",
   "metadata": {},
   "source": [
    "### 01. 라이브러리 설치"
   ]
  },
  {
   "cell_type": "code",
   "execution_count": null,
   "id": "9b999a18",
   "metadata": {},
   "outputs": [],
   "source": [
    "# !pip install selenium"
   ]
  },
  {
   "cell_type": "code",
   "execution_count": null,
   "id": "6d47616f",
   "metadata": {},
   "outputs": [],
   "source": [
    "# !pip install webdriver-manager"
   ]
  },
  {
   "cell_type": "code",
   "execution_count": null,
   "id": "c6a62fb4",
   "metadata": {},
   "outputs": [],
   "source": [
    "# !pip install python-telegram-bot"
   ]
  },
  {
   "cell_type": "markdown",
   "id": "62f5293c",
   "metadata": {},
   "source": [
    "- selenium : 웹 제어 라이브러리. 크롤링에 주로 사용됩니다.\n",
    "- webdriver-manager : 크롬 드라이버 사용을 위해 설치합니다.\n",
    "- python-telegram-bot : 텔레그램을 사용한 메시지 전송이 가능해집니다."
   ]
  },
  {
   "cell_type": "markdown",
   "id": "1d23f6fa",
   "metadata": {},
   "source": [
    "---"
   ]
  },
  {
   "cell_type": "markdown",
   "id": "71b85e8c",
   "metadata": {},
   "source": [
    "### 2. 특정 사이트 게시판 가져오기"
   ]
  },
  {
   "cell_type": "code",
   "execution_count": 17,
   "id": "5bdf0026",
   "metadata": {},
   "outputs": [],
   "source": [
    "from selenium import webdriver"
   ]
  },
  {
   "cell_type": "code",
   "execution_count": 18,
   "id": "4ceaaccd",
   "metadata": {},
   "outputs": [],
   "source": [
    "from selenium.webdriver.common.by import By"
   ]
  },
  {
   "cell_type": "code",
   "execution_count": 19,
   "id": "b9a75d4c",
   "metadata": {},
   "outputs": [
    {
     "data": {
      "text/plain": [
       "'4.5.0'"
      ]
     },
     "execution_count": 19,
     "metadata": {},
     "output_type": "execute_result"
    }
   ],
   "source": [
    "# selenium 버전 확인\n",
    "import selenium\n",
    "selenium.__version__"
   ]
  },
  {
   "cell_type": "markdown",
   "id": "c78b5ab2",
   "metadata": {},
   "source": [
    "- 최근 selenium 4.3 버전부터 element 가져오는 방법이 변경되었습니다.\n",
    "- find_by_css_selector -> find_element(By.CSS_SELECTOR)"
   ]
  },
  {
   "cell_type": "code",
   "execution_count": 20,
   "id": "19e4b583",
   "metadata": {},
   "outputs": [],
   "source": [
    "from webdriver_manager.chrome import ChromeDriverManager"
   ]
  },
  {
   "cell_type": "code",
   "execution_count": 22,
   "id": "c3af4515",
   "metadata": {},
   "outputs": [
    {
     "name": "stderr",
     "output_type": "stream",
     "text": [
      "C:\\Users\\21csc\\AppData\\Local\\Temp\\ipykernel_15260\\2072065792.py:1: DeprecationWarning: executable_path has been deprecated, please pass in a Service object\n",
      "  driver = webdriver.Chrome(ChromeDriverManager().install())\n"
     ]
    }
   ],
   "source": [
    "driver = webdriver.Chrome(ChromeDriverManager().install())\n",
    "\n",
    "driver.get(url=\"https://ikaos.org/kaos/apply/list.php\")\n",
    "\n",
    "driver.implicitly_wait(time_to_wait=10)"
   ]
  },
  {
   "cell_type": "markdown",
   "id": "22cedc23",
   "metadata": {},
   "source": [
    "카오스 강연 게시판을 가져왔습니다.\n",
    "#container > div > div.interview-list > div.book-list.type2 > div.post-list > div.book-list.type2 > ul > li > a > div.book-info > div:nth-child(2) > strong\n",
    "#container > div > div.interview-list > div.book-list.type2 > div.post-list > div.book-list.type2 > ul > li:nth-child(2) > a > div.book-info > div:nth-child(2) > strong"
   ]
  },
  {
   "cell_type": "markdown",
   "id": "efec2662",
   "metadata": {},
   "source": [
    "---"
   ]
  },
  {
   "cell_type": "markdown",
   "id": "81906682",
   "metadata": {},
   "source": [
    "### 3. 게시글 가져오기"
   ]
  },
  {
   "cell_type": "markdown",
   "id": "73f3b866",
   "metadata": {},
   "source": [
    "driver.find_elements(By.CSS_SELECTOR, \"\") 사용법\n",
    "- 웹의 가져올 부분 > 우클릭 > 검사 > 해당 태그 우클릭 > Copy > Copy Selector\n",
    "- (CSS_SELECTOR 이외의 기능을 사용할 수도 있습니다. 다양한 옵션을 Copy 해보면 좋을 것 같습니다.)\n",
    "- 각각의 제목을 Copy Selector 후 값을 확인하여 규칙성을 발견합니다.\n",
    "- 각 제목의 순서를 결정하는 부분을 제거하여, 모두 가져올 수 있도록 합니다."
   ]
  },
  {
   "cell_type": "code",
   "execution_count": 23,
   "id": "ec4d26b3",
   "metadata": {},
   "outputs": [],
   "source": [
    "titles = driver.find_elements(By.CSS_SELECTOR, \"#container > div > div.interview-list > div.book-list.type2 > div.post-list > div.book-list.type2 > ul > li > a > div.book-info > div:nth-child(2) > strong\")"
   ]
  },
  {
   "cell_type": "code",
   "execution_count": 24,
   "id": "e831ddeb",
   "metadata": {},
   "outputs": [],
   "source": [
    "urls = driver.find_elements(By.CSS_SELECTOR, \"#container > div > div.interview-list > div.book-list.type2 > div.post-list > div.book-list.type2 > ul > li > a\")"
   ]
  },
  {
   "cell_type": "code",
   "execution_count": 25,
   "id": "e067e711",
   "metadata": {},
   "outputs": [
    {
     "name": "stdout",
     "output_type": "stream",
     "text": [
      "2022 노벨상 해설 강연\n",
      "https://ikaos.org/kaos/apply/view.php?kc_idx=147\n",
      "[무료상영] 트리오브라이프\n",
      "https://ikaos.org/kaos/apply/view.php?kc_idx=146\n",
      "진화\n",
      "https://ikaos.org/kaos/apply/view.php?kc_idx=145\n",
      "카오스+어스 ㅣ 페스티벌 어스 프리퀄 행사\n",
      "https://ikaos.org/kaos/apply/view.php?kc_idx=144\n",
      "[식물행성] 10강(5/18) 출석체크\n",
      "https://ikaos.org/kaos/apply/view.php?kc_idx=142\n",
      "[식물행성] 9강(5/11) 출석체크\n",
      "https://ikaos.org/kaos/apply/view.php?kc_idx=141\n",
      "생명행성 Life Planet\n",
      "https://ikaos.org/kaos/apply/view.php?kc_idx=140\n"
     ]
    }
   ],
   "source": [
    "for i in range(len(titles)):\n",
    "    print(titles[i].text)\n",
    "    print(urls[i].get_attribute(\"href\"))"
   ]
  },
  {
   "cell_type": "markdown",
   "id": "0665a157",
   "metadata": {},
   "source": [
    "---"
   ]
  },
  {
   "cell_type": "markdown",
   "id": "e3e6b66b",
   "metadata": {},
   "source": [
    "### 4. Telegram api로 메시지 전송\n",
    "\n",
    "여러가지 메시지 전송방법이 있지만 (카카오 API 활용 등)\n",
    "\n",
    "가장 간단하게 테스트 할 수 있는 텔레그램을 사용했습니다.\n",
    "\n"
   ]
  },
  {
   "cell_type": "markdown",
   "id": "1dbcfd07",
   "metadata": {},
   "source": [
    "<img src=\"https://ifh.cc/g/6M8R0g.png\" width=\"400\" align=\"left\"/>"
   ]
  },
  {
   "cell_type": "markdown",
   "id": "4c849e12",
   "metadata": {},
   "source": [
    "[Telegram api 토큰, id 얻는 방법]\n",
    "- 텔레그램 다운로드 및 로그인 > 사용자 검색 > \"BotFather\" 검색 > 채팅 시작\n",
    "- \"/start\" 입력 > \"/newbot\" 클릭\n",
    "- Bot id 입력하기 (Bot id는 \"_bot\" 으로 끝나야 한다.)\n",
    "- 사용 가능하면, username 입력하기 (마찬가지로 \"_bot\" 으로 끝나야 한다.)\n",
    "- User token이 발급된다."
   ]
  },
  {
   "cell_type": "code",
   "execution_count": 26,
   "id": "34ebc289",
   "metadata": {},
   "outputs": [],
   "source": [
    "import telegram"
   ]
  },
  {
   "cell_type": "code",
   "execution_count": 27,
   "id": "a8eb0422",
   "metadata": {},
   "outputs": [],
   "source": [
    "# 텔레그램 id 확인을 위한 코드입니다.\n",
    "\n",
    "token = '5459255337:AAGwy804XtrZySObftsXT_pBsohT4Ik5-64'\n",
    "bot = telegram.Bot(token=token)\n",
    "updates = bot.getUpdates()\n",
    "for u in updates:\n",
    "    print(u.message)"
   ]
  },
  {
   "cell_type": "code",
   "execution_count": 28,
   "id": "afec6909",
   "metadata": {},
   "outputs": [
    {
     "name": "stdout",
     "output_type": "stream",
     "text": [
      "2022 노벨상 해설 강연\n"
     ]
    }
   ],
   "source": [
    "message_1st = titles[0].text\n",
    "print(message_1st)"
   ]
  },
  {
   "cell_type": "code",
   "execution_count": 29,
   "id": "7f5d52c0",
   "metadata": {},
   "outputs": [
    {
     "name": "stdout",
     "output_type": "stream",
     "text": [
      "2022 노벨상 해설 강연\n"
     ]
    }
   ],
   "source": [
    "message = \"\"\n",
    "for i in range(len(titles)):\n",
    "    if \"강연\" in titles[i].text:\n",
    "        message = titles[i].text\n",
    "        print(message)\n",
    "        \n",
    "        token = \"5459255337:AAGwy804XtrZySObftsXT_pBsohT4Ik5-64\"\n",
    "        id = \"5332455701\"\n",
    "        bot = telegram.Bot(token)\n",
    "        bot.sendMessage(chat_id=id, text=message)"
   ]
  },
  {
   "cell_type": "markdown",
   "id": "457df59f",
   "metadata": {},
   "source": [
    "\"강연\" 키워드가 포함된 타이틀을 가져와 메시지 전송을 합니다."
   ]
  },
  {
   "cell_type": "markdown",
   "id": "69cbfbe1",
   "metadata": {},
   "source": [
    "---"
   ]
  },
  {
   "cell_type": "markdown",
   "id": "def56d51",
   "metadata": {},
   "source": [
    "### 5. 일정 주기로 확인 후 메시지를 전송하기\n",
    "- .py 파일을 생성하여 아래 코드를 작성 후 실행합니다.\n",
    "- time.sleep 입력값에 따라 일정한 주기로 코드가 실행됩니다."
   ]
  },
  {
   "cell_type": "code",
   "execution_count": 19,
   "id": "add01e0d",
   "metadata": {},
   "outputs": [
    {
     "name": "stderr",
     "output_type": "stream",
     "text": [
      "C:\\Users\\21csc\\AppData\\Local\\Temp\\ipykernel_17020\\3654725657.py:7: DeprecationWarning: executable_path has been deprecated, please pass in a Service object\n",
      "  driver = webdriver.Chrome(ChromeDriverManager().install())\n"
     ]
    }
   ],
   "source": [
    "from webdriver_manager.chrome import ChromeDriverManager\n",
    "from selenium import webdriver\n",
    "from selenium.webdriver.common.by import By\n",
    "import telegram\n",
    "import time\n",
    "\n",
    "driver = webdriver.Chrome(ChromeDriverManager().install())\n",
    "\n",
    "send_message_list = []\n",
    "\n",
    "while True:\n",
    "    try:\n",
    "        driver.get(url=\"https://ikaos.org/kaos/apply/list.php\")\n",
    "        \n",
    "        titles = driver.find_elements(By.CSS_SELECTOR, \"#container > div > div.interview-list > div.book-list.type2 > div.post-list > div.book-list.type2 > ul > li > a > div.book-info > div:nth-child(2) > strong\")\n",
    "        urls = driver.find_elements(By.CSS_SELECTOR, \"#container > div > div.interview-list > div.book-list.type2 > div.post-list > div.book-list.type2 > ul > li > a\")\n",
    "        \n",
    "        message = \"\"\n",
    "        \n",
    "        for i in range(len(titles)):\n",
    "            if \"강연\" in titles[i].text:\n",
    "                message = titles[i].text + \"\\n\" + urls[i].get_attribute(\"href\")\n",
    "                \n",
    "                if message not in send_message_list:\n",
    "                    send_message_list.append(message)\n",
    "                    \n",
    "                    token = \"5459255337:AAGwy804XtrZySObftsXT_pBsohT4Ik5-64\"\n",
    "                    id = \"5332455701\"\n",
    "                    bot = telegram.Bot(token)\n",
    "                    bot.sendMessage(chat_id=id, text=message)\n",
    "                    \n",
    "        time.sleep(60.0)\n",
    "        \n",
    "    except KeyboardInterrupt:\n",
    "        break"
   ]
  },
  {
   "cell_type": "markdown",
   "id": "a4738e0a",
   "metadata": {},
   "source": [
    "다른 방법 시도하기\n",
    "- 이마트와 홈플러스의 빙그레바나나맛우유 가격을 비교하여 알람 서비스를 만들어보자.\n",
    "- 아이폰14 pro 가격이 100만원 이하가 되었을 때 알람을 받아보자."
   ]
  },
  {
   "cell_type": "markdown",
   "id": "e9520524",
   "metadata": {},
   "source": [
    "---"
   ]
  },
  {
   "cell_type": "markdown",
   "id": "981dff65",
   "metadata": {},
   "source": [
    "### 6. 이미지를 가져와 텍스트 추출하기\n",
    "\n",
    "- 텍스트 추출 라이브러리를 설치합니다."
   ]
  },
  {
   "cell_type": "code",
   "execution_count": 30,
   "id": "05342924",
   "metadata": {},
   "outputs": [
    {
     "name": "stdout",
     "output_type": "stream",
     "text": [
      "Requirement already satisfied: pytesseract in c:\\users\\21csc\\anaconda3\\lib\\site-packages (0.3.10)\n",
      "Requirement already satisfied: packaging>=21.3 in c:\\users\\21csc\\anaconda3\\lib\\site-packages (from pytesseract) (21.3)\n",
      "Requirement already satisfied: Pillow>=8.0.0 in c:\\users\\21csc\\anaconda3\\lib\\site-packages (from pytesseract) (9.0.1)\n",
      "Requirement already satisfied: pyparsing!=3.0.5,>=2.0.2 in c:\\users\\21csc\\anaconda3\\lib\\site-packages (from packaging>=21.3->pytesseract) (3.0.4)\n"
     ]
    }
   ],
   "source": [
    "!pip install pytesseract"
   ]
  },
  {
   "cell_type": "markdown",
   "id": "ebc56106",
   "metadata": {},
   "source": [
    "[다음 사이트][1]에서 OCR 프로그램을 다운로드 받습니다.\n",
    "\n",
    "[1] : https://github.com/UB-Mannheim/tesseract/wiki"
   ]
  },
  {
   "cell_type": "code",
   "execution_count": null,
   "id": "b6f430cb",
   "metadata": {},
   "outputs": [],
   "source": []
  }
 ],
 "metadata": {
  "kernelspec": {
   "display_name": "Python 3 (ipykernel)",
   "language": "python",
   "name": "python3"
  },
  "language_info": {
   "codemirror_mode": {
    "name": "ipython",
    "version": 3
   },
   "file_extension": ".py",
   "mimetype": "text/x-python",
   "name": "python",
   "nbconvert_exporter": "python",
   "pygments_lexer": "ipython3",
   "version": "3.9.12"
  }
 },
 "nbformat": 4,
 "nbformat_minor": 5
}
