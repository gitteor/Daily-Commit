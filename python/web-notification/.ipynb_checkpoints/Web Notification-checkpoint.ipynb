{
 "cells": [
  {
   "cell_type": "markdown",
   "id": "f1f93e91",
   "metadata": {},
   "source": [
    "### 01. 라이브러리 설치\n",
    "- selenium : 웹 제어 라이브러리\n",
    "- webdriver-manager : 크롬 드라이버 사용\n",
    "- python-telegram-bot : 텔레그램을 사용한 메시지 전송"
   ]
  },
  {
   "cell_type": "code",
   "execution_count": 4,
   "id": "9b999a18",
   "metadata": {},
   "outputs": [],
   "source": [
    "# !pip install selenium"
   ]
  },
  {
   "cell_type": "code",
   "execution_count": 5,
   "id": "6d47616f",
   "metadata": {},
   "outputs": [],
   "source": [
    "# !pip install webdriver-manager"
   ]
  },
  {
   "cell_type": "code",
   "execution_count": 6,
   "id": "c6a62fb4",
   "metadata": {},
   "outputs": [],
   "source": [
    "# !pip install python-telegram-bot"
   ]
  },
  {
   "cell_type": "markdown",
   "id": "71b85e8c",
   "metadata": {},
   "source": [
    "### 2. 특정 사이트 게시판 가져오기"
   ]
  },
  {
   "cell_type": "code",
   "execution_count": 16,
   "id": "19e4b583",
   "metadata": {},
   "outputs": [],
   "source": [
    "from webdriver_manager.chrome import ChromeDriverManager"
   ]
  },
  {
   "cell_type": "code",
   "execution_count": 17,
   "id": "5bdf0026",
   "metadata": {},
   "outputs": [],
   "source": [
    "from selenium import webdriver"
   ]
  },
  {
   "cell_type": "code",
   "execution_count": 26,
   "id": "4ceaaccd",
   "metadata": {},
   "outputs": [],
   "source": [
    "from selenium.webdriver.common.by import By"
   ]
  },
  {
   "cell_type": "code",
   "execution_count": 29,
   "id": "c3af4515",
   "metadata": {},
   "outputs": [
    {
     "name": "stderr",
     "output_type": "stream",
     "text": [
      "C:\\Users\\21csc\\AppData\\Local\\Temp\\ipykernel_7324\\137653829.py:1: DeprecationWarning: executable_path has been deprecated, please pass in a Service object\n",
      "  driver = webdriver.Chrome(ChromeDriverManager().install())\n"
     ]
    }
   ],
   "source": [
    "driver = webdriver.Chrome(ChromeDriverManager().install())\n",
    "\n",
    "driver.get(url=\"https://www.ppomppu.co.kr/zboard/zboard.php?id=ppomppu\")\n",
    "\n",
    "driver.implicitly_wait(time_to_wait=10)"
   ]
  },
  {
   "cell_type": "markdown",
   "id": "81906682",
   "metadata": {},
   "source": [
    "### 3. 게시글 가져오기"
   ]
  },
  {
   "cell_type": "code",
   "execution_count": 31,
   "id": "ec4d26b3",
   "metadata": {},
   "outputs": [],
   "source": [
    "titles = driver.find_elements(By.CSS_SELECTOR, \"#revolution_main_table > tbody > tr > td:nth-child(3) > table > tbody > tr > td:nth-child(2) > div > a > font\")"
   ]
  },
  {
   "cell_type": "code",
   "execution_count": 33,
   "id": "e831ddeb",
   "metadata": {},
   "outputs": [],
   "source": [
    "urls = driver.find_elements(By.CSS_SELECTOR, \"#revolution_main_table > tbody > tr > td:nth-child(3) > table > tbody > tr > td:nth-child(2) > div > a\")"
   ]
  },
  {
   "cell_type": "code",
   "execution_count": 34,
   "id": "e067e711",
   "metadata": {},
   "outputs": [
    {
     "name": "stdout",
     "output_type": "stream",
     "text": [
      "[VOGO] 태안 활꽃게 2kg (19,900원/무료)\n",
      "[하우스앱] 갤럭시 A33 128GB 자급제 외 갤럭시 S22 시리즈 (372,000원~/무배)\n",
      "[11번가] Samsung 75형 삼성 Crystal UHD TV 189cm KU75UB8100FXKR (1,413,670원)\n",
      "[위메프] 블랙타이거새우 1마리+1마리 19cm 내외 80-90g (9,900원/무료)\n",
      "[위메프]아로니아왕구이 900g+900g 총1.8kg (14,900원/무료배송)\n",
      "[티몬] 맥도날드 2만원권 (18300/무료)\n",
      "[티몬] 온라인 문화상품권 5만원권 (46,300원/무료)\n",
      "[11번가] 예약구매 로지텍 mx master3 (79,900원/무료)\n",
      "[위메프]G7커피 200T+15T증정(14500/무배)\n",
      "[G마켓] 2022년 햅쌀 수향미 골든퀸 수향미 10kg 단일품종 상등급 (30,800/무배)\n",
      "[VOGO][삼성XVOGO]모바일 액세서리 KIT 보고냥에디션(69,000/무배)\n",
      "[공영쇼핑]22년 햅쌀 상등급 신동진 쌀 10kg 26,790원 (농할쿠폰 적용시 21,432원/무료)\n",
      "[sharewareonsale]GoodSync 12 백업 프로그램 (무료/무료)\n",
      "[VOGO] dell vostro 3525 노트북 win11 홈포함 (499000/무료)\n",
      "[티몬] 스파클 2L 30병 (12,910원/무료)\n",
      "[위메프] 아토팜 탑투토워시 리필 400ml 1+1( 19,670원/무배)\n",
      "[롯데온]웰치스 제로 포도 355mm 24캔(14,230/무배)\n",
      "[롯데온]포항 구룡포 햇 과메기 10미(13,760원/무료)\n",
      "[네이버] 리스테린 100ml 5개 체험딜이벤트(4,500원/무료)\n",
      "[네이버] 청도 감말랭이 100g (2,200/3,000원)\n",
      "[롯데ON 최대28% 파격할인] 갤럭시 자급제 Z플립4ㅣZ폴드4ㅣS22시리즈ㅣA시리즈\n",
      "[롯데온 롯키데이]Z플립4/Z폴드4 최대 28% 초특가[+S22 시리즈 24%/A33 26% 할인]\n",
      "[롯데온][최대28%할인] 갤럭시 Z플립4 / Z폴드4 / S22 시리즈 / A 시리즈 자급제폰\n",
      "[컴퓨존] 갤럭시 A33 역대급 37만원 + Z플립4, 폴드4 최대 26%할인!\n",
      "[쿠폰할인] 자연맛남 인기 제철먹거리 (22년 감귤/절임배추/고구마/감/사과/샤인머스켓 등) (8,500원)\n",
      "선풍기 구매\n",
      "오토바이 안전 LED\n",
      "카플레이 블루투스\n"
     ]
    }
   ],
   "source": [
    "for i in range(len(titles)):\n",
    "    print(titles[i].text)"
   ]
  },
  {
   "cell_type": "code",
   "execution_count": null,
   "id": "e62ec3d9",
   "metadata": {},
   "outputs": [],
   "source": []
  }
 ],
 "metadata": {
  "kernelspec": {
   "display_name": "Python 3 (ipykernel)",
   "language": "python",
   "name": "python3"
  },
  "language_info": {
   "codemirror_mode": {
    "name": "ipython",
    "version": 3
   },
   "file_extension": ".py",
   "mimetype": "text/x-python",
   "name": "python",
   "nbconvert_exporter": "python",
   "pygments_lexer": "ipython3",
   "version": "3.9.12"
  }
 },
 "nbformat": 4,
 "nbformat_minor": 5
}
